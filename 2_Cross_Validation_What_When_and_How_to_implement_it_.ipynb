{
 "cells": [
  {
   "cell_type": "code",
   "execution_count": null,
   "metadata": {
    "id": "k01xOBpFiLY-"
   },
   "outputs": [],
   "source": []
  },
  {
   "cell_type": "code",
   "execution_count": 1,
   "metadata": {
    "colab": {
     "base_uri": "https://localhost:8080/"
    },
    "id": "4lVEZesShbTU",
    "outputId": "cd2746c1-8d7c-4663-97b8-8367623ff6b6"
   },
   "outputs": [
    {
     "name": "stdout",
     "output_type": "stream",
     "text": [
      "\u001b[?25l\r",
      "\u001b[K     |████▊                           | 10 kB 23.4 MB/s eta 0:00:01\r",
      "\u001b[K     |█████████▌                      | 20 kB 25.9 MB/s eta 0:00:01\r",
      "\u001b[K     |██████████████▎                 | 30 kB 29.0 MB/s eta 0:00:01\r",
      "\u001b[K     |███████████████████             | 40 kB 32.9 MB/s eta 0:00:01\r",
      "\u001b[K     |███████████████████████▉        | 51 kB 36.7 MB/s eta 0:00:01\r",
      "\u001b[K     |████████████████████████████▋   | 61 kB 39.2 MB/s eta 0:00:01\r",
      "\u001b[K     |████████████████████████████████| 68 kB 5.7 MB/s \n",
      "\u001b[?25h  Building wheel for uuid (setup.py) ... \u001b[?25l\u001b[?25hdone\n"
     ]
    }
   ],
   "source": [
    "# Jovian Commit Essentials\n",
    "# Please retain and execute this cell without modifying the contents for `jovian.commit` to work\n",
    "!pip install jovian --upgrade -q\n",
    "import jovian\n",
    "jovian.set_project('2-cross-validation-what-when-and-how-to-implement-it')\n",
    "jovian.set_colab_id('1D1Xi9IzQNRsOZRPHC9Tk6AUnGq829ZiA')"
   ]
  },
  {
   "cell_type": "markdown",
   "metadata": {
    "id": "FXodG8qz0G4s"
   },
   "source": [
    "In this NoteBook, you will learn how to use cross-validation for better measures of model performance.\n",
    "\n",
    "**`Introduction`**\n",
    "\n",
    "Machine learning is an <u><b>iterative</b></u> process.\n",
    "\n",
    "You will face choices about what predictive variables to use, what types of models to use, what arguments to supply to those models, etc. So far, you have made these choices in a data-driven way by measuring model quality with a validation (<i>or that 20% test data</i>) set.\n",
    "\n",
    "But there are some drawbacks to this approach. To see this, imagine you have a dataset with 5000 rows. You will typically keep about 20% of the data as a validation dataset, or 1000 rows. But this leaves some random chance in determining model scores. That is, a model might do well on one set of 1000 rows, even if it would be inaccurate on a different 1000 rows.\n",
    "\n",
    "In general, the larger the validation set, the less randomness (aka \"noise\") there is in our measure of model quality, and the more reliable it will be. Unfortunately, we can only get a large validation set by removing rows from our training data, and smaller training datasets mean worse models!"
   ]
  },
  {
   "cell_type": "code",
   "execution_count": 2,
   "metadata": {
    "id": "S3rtmHNI0G4v"
   },
   "outputs": [],
   "source": [
    "import warnings\n",
    "warnings.simplefilter(action='ignore', category=UserWarning)\n",
    "\n",
    "from IPython.display import HTML"
   ]
  },
  {
   "cell_type": "markdown",
   "metadata": {
    "id": "FFTK2GS00G46"
   },
   "source": [
    "What is cross-validation?\n",
    "--\n",
    "\n",
    "In cross-validation, we run our modeling process on different subsets of the data to get multiple measures of model quality.\n",
    "\n",
    "For example, we could begin by dividing the data into 5 pieces, each 20% of the full dataset. In this case, we say that we have broken the data into 5 \"folds\".\n",
    "\n",
    "![SuvenML_CrossValidation_Image](https://drive.google.com/uc?id=1F6jNuimRQbnxw0knpRmb1ADuCZ2Zgx-I)\n"
   ]
  },
  {
   "cell_type": "markdown",
   "metadata": {
    "id": "zVTZOAeV0G48"
   },
   "source": [
    "**`Then, we run one experiment for each fold:`**\n",
    "\n",
    "1. In Experiment 1, we use the first fold as a validation (or holdout) set and everything else as training data. This gives us a measure of model quality based on a 20% holdout set.\n",
    "<br><br>\n",
    "2. In Experiment 2, we hold out data from the second fold (and use everything except the second fold for training the model). The holdout set is then used to get a second estimate of model quality.\n",
    "<br><br>\n",
    "3. We repeat this process, using every fold once as the holdout set. Putting this together, 100% of the data is used as holdout at some point, and we end up with a measure of model quality that is based on all of the rows in the dataset (even if we don't use all rows simultaneously)."
   ]
  },
  {
   "cell_type": "markdown",
   "metadata": {
    "id": "4jHNe5ZF0G4-"
   },
   "source": [
    "When should you use cross-validation?\n",
    "--\n",
    "\n",
    "Cross-validation gives a more accurate measure of model quality, which is especially important if you are making a lot of modeling decisions. However, **`it can take longer to run`**, because it estimates multiple models (one for each fold).\n",
    "\n",
    "**So, given these <u>tradeoffs</u>, when should you use each approach?**\n",
    "\n",
    "> For small datasets, where extra computational burden isn't a big deal, you should run cross-validation.\n",
    "\n",
    "> For larger datasets, a single validation set is sufficient. Your code will run faster, and you may have enough data that there's little need to re-use some of it for holdout.\n",
    "\n",
    "> There's no simple threshold for what constitutes a large vs. small dataset. But if your model takes a couple minutes or less to run, it's probably worth switching to cross-validation.\n",
    "\n",
    "Alternatively, you can run cross-validation and see if the scores for each experiment seem close. If each experiment yields the same results, a single validation set is probably sufficient."
   ]
  },
  {
   "cell_type": "markdown",
   "metadata": {
    "id": "W4Rmyl6P0G4_"
   },
   "source": [
    "**`Summarizing till this point`**\n",
    "> Cross-Validation or k-Fold Cross-Validation is a **resampling procedure** used to evaluate machine learning models on a **limited data sample**."
   ]
  },
  {
   "cell_type": "markdown",
   "metadata": {
    "id": "Y4PodmLc0G5B"
   },
   "source": [
    "How to implement it ?\n",
    "--\n",
    "\n",
    "**`The general procedure is as follows`**:\n",
    "\n",
    "1. Shuffle the dataset randomly.\n",
    "<br><br>\n",
    "2. Split the dataset into k groups ( usual values of **k** range from 5 to 20 )\n",
    "<br><br>\n",
    "3. For each unique group:\n",
    "<br><br>\n",
    "\n",
    "> a. Take the group as a hold out or test data set\n",
    "\n",
    "> b. Take the remaining groups as a training data set\n",
    "\n",
    "> c. Fit a model on the training set and evaluate it on the test set\n",
    "\n",
    "> d. Retain the evaluation score and discard the model\n",
    "<br>\n",
    "\n",
    "4. Summarize the skill of the model by taking **mean** of model evaluation scores"
   ]
  },
  {
   "cell_type": "markdown",
   "metadata": {
    "id": "mpi8m5Js0G5D"
   },
   "source": [
    "## Lets go step by step to understand Cross Validation **practically**. \n",
    "We would **first** run through a <u>concept</u> example and <u>then</u> try and apply over **Iris Data set for finding** : \n",
    "\n",
    "1. Most approriate accuracy for a given model. We would choose KNN classifier.\n",
    "<br><br>\n",
    "2. Search for an optimal value of K for KNN\n",
    "<br><br>\n",
    "3. Better of 2 ML Models. Here we would compare KNN with LogisticRegression.\n",
    "<br><br>\n",
    "and **lastly** \n",
    "<br><br>\n",
    "4. Do feature selection from some `advertising dataset` from **kaggle**"
   ]
  },
  {
   "cell_type": "code",
   "execution_count": 3,
   "metadata": {
    "colab": {
     "base_uri": "https://localhost:8080/"
    },
    "id": "3l1L-DXF0G5F",
    "outputId": "0a710f16-d194-4802-da13-e94f634e8ab4"
   },
   "outputs": [
    {
     "name": "stdout",
     "output_type": "stream",
     "text": [
      "train: [0.1 0.4 0.5 0.6], test: [0.2 0.3]\n",
      "train: [0.2 0.3 0.4 0.6], test: [0.1 0.5]\n",
      "train: [0.1 0.2 0.3 0.5], test: [0.4 0.6]\n"
     ]
    }
   ],
   "source": [
    "###########################   Concept Example  ####################################\n",
    "# ------------------------------------------------------------------------------------\n",
    "\n",
    "# scikit-learn k-fold cross-validation\n",
    "from numpy import array\n",
    "from sklearn.model_selection import KFold\n",
    "\n",
    "# Imagine we have a data sample with 6 observations:\n",
    "ML_data = array([0.1, 0.2, 0.3, 0.4, 0.5, 0.6])\n",
    "\n",
    "# The first step is to pick a value for k in order to determine the number of folds \n",
    "# used to split the data. Here, we will use a value of k=3.\n",
    "\n",
    "# For example:\n",
    "## Model1: Trained on Fold1 + Fold2, Tested on Fold3\n",
    "## Model2: Trained on Fold2 + Fold3, Tested on Fold1\n",
    "## Model3: Trained on Fold1 + Fold3, Tested on Fold2\n",
    "\n",
    "# We do not have to implement k-fold cross-validation manually. \n",
    "# The scikit-learn library provides an implementation for it.\n",
    "kfold = KFold(3, True, 1)\n",
    "#  Here 3 -> indicates no. of folds, shuffle = True means we want to split shuffled data\n",
    "# and 1 -> is the random_state\n",
    "\n",
    "# we then use the split() function\n",
    "# enumerate splits\n",
    "for train, test in kfold.split(ML_data):\n",
    "\tprint('train: %s, test: %s' % (ML_data[train], ML_data[test]))"
   ]
  },
  {
   "cell_type": "code",
   "execution_count": 4,
   "metadata": {
    "colab": {
     "base_uri": "https://localhost:8080/"
    },
    "id": "WXn05wkN0G5L",
    "outputId": "d7dbca29-e6fb-4ec1-b39a-242a8a4d0c83"
   },
   "outputs": [
    {
     "data": {
      "text/plain": [
       "0.9736842105263158"
      ]
     },
     "execution_count": 4,
     "metadata": {
      "tags": []
     },
     "output_type": "execute_result"
    }
   ],
   "source": [
    "#####   Real Example using Iris dataset. Here I have not used CrossValidation #######\n",
    "# ------------------------------------------------------------------------------------\n",
    "\n",
    "from sklearn.datasets import load_iris\n",
    "#from sklearn.cross_validation import train_test_split   # is changed to sklearn.model_selection\n",
    "from sklearn.model_selection import train_test_split\n",
    "from sklearn.neighbors import KNeighborsClassifier\n",
    "from sklearn import metrics\n",
    "\n",
    "# read in the iris data\n",
    "iris = load_iris()\n",
    "\n",
    "# create X (features) and y (response)\n",
    "X = iris.data\n",
    "y = iris.target\n",
    "\n",
    "# use train/test split with different random_state values\n",
    "# we can change the random_state values that changes the accuracy scores\n",
    "# the accuracy changes a lot\n",
    "# this is why testing accuracy is a high-variance estimate\n",
    "X_train, X_test, y_train, y_test = train_test_split(X, y, random_state=6)\n",
    "\n",
    "# check classification accuracy of KNN with K=5\n",
    "knn = KNeighborsClassifier(n_neighbors=5)\n",
    "knn.fit(X_train, y_train)\n",
    "y_pred = knn.predict(X_test)\n",
    "metrics.accuracy_score(y_test, y_pred)"
   ]
  },
  {
   "cell_type": "markdown",
   "metadata": {
    "id": "fVTkhRAn0G5Q"
   },
   "source": [
    "<font color=\"red\">**Question:**</font> What if we created a bunch of train/test splits, calculated the testing accuracy for each, and averaged the results together?\n",
    "\n",
    "<font color=\"red\">**Answer:**</font> That's the essense of cross-validation (also called CV)!!\n",
    "\n",
    "`Note` : This is also the <u>first application</u> of CV"
   ]
  },
  {
   "cell_type": "code",
   "execution_count": 5,
   "metadata": {
    "colab": {
     "base_uri": "https://localhost:8080/"
    },
    "id": "JAew5KNd0G5S",
    "outputId": "4bb4ad90-5130-48b7-94d1-c349a3030558"
   },
   "outputs": [
    {
     "name": "stdout",
     "output_type": "stream",
     "text": [
      "[1.         0.93333333 1.         1.         0.86666667 0.93333333\n",
      " 0.93333333 1.         1.         1.        ]\n"
     ]
    }
   ],
   "source": [
    "# Redo-ing the above example with Cross Validation \n",
    "from sklearn.model_selection import cross_val_score\n",
    "\n",
    "# 10-fold cross-validation with K=5 for KNN (the n_neighbors parameter)\n",
    "# k = 5 for KNeighborsClassifier\n",
    "knn = KNeighborsClassifier(n_neighbors=5)\n",
    "\n",
    "# Use cross_val_score function\n",
    "# We are passing the entirety of X and y, not X_train or y_train, it takes care of \n",
    "# splitting the data\n",
    "# cv=10 for 10 folds\n",
    "# scoring='accuracy' for evaluation metric - althought their are many\n",
    "ML_KNN_scores = cross_val_score(knn, X, y, cv=10, scoring='accuracy')\n",
    "print(ML_KNN_scores)"
   ]
  },
  {
   "cell_type": "markdown",
   "metadata": {
    "id": "9l9dAMxZ0G5Y"
   },
   "source": [
    "**`Note`** : In the first iteration, the accuracy is 100%. Second iteration, the accuracy is 93% and so on. \n",
    "\n",
    "So we can report the final , single value of Model metric as **`mean`** of the metric. "
   ]
  },
  {
   "cell_type": "code",
   "execution_count": 6,
   "metadata": {
    "colab": {
     "base_uri": "https://localhost:8080/"
    },
    "id": "CbEt89ld0G5Z",
    "outputId": "5855a1fa-39eb-464e-ef50-e8d513828a6d"
   },
   "outputs": [
    {
     "name": "stdout",
     "output_type": "stream",
     "text": [
      "0.9666666666666668\n"
     ]
    }
   ],
   "source": [
    "print(ML_KNN_scores.mean())\n",
    "\n",
    "## This metric of the ML model(i.e 96.66%) is better representative than 97.36%.  "
   ]
  },
  {
   "cell_type": "markdown",
   "metadata": {
    "id": "dlQ1lt290G5f"
   },
   "source": [
    "**Can You solve this ?**\n",
    "\n",
    "> Select the best tuning parameters (aka \"hyperparameters\") for KNN on the iris dataset\n",
    "\n",
    "`Note` : This is the <u>second application</u> of CV"
   ]
  },
  {
   "cell_type": "code",
   "execution_count": 7,
   "metadata": {
    "colab": {
     "base_uri": "https://localhost:8080/"
    },
    "id": "qqt860RH0G5g",
    "outputId": "d973ad2c-3bce-4c31-fb14-55f269c7cd66"
   },
   "outputs": [
    {
     "name": "stdout",
     "output_type": "stream",
     "text": [
      "[0.96, 0.9533333333333334, 0.9666666666666666, 0.9666666666666666, 0.9666666666666668, 0.9666666666666668, 0.9666666666666668, 0.9666666666666668, 0.9733333333333334, 0.9666666666666668, 0.9666666666666668, 0.9733333333333334, 0.9800000000000001, 0.9733333333333334, 0.9733333333333334, 0.9733333333333334, 0.9733333333333334, 0.9800000000000001, 0.9733333333333334, 0.9800000000000001, 0.9666666666666666, 0.9666666666666666, 0.9733333333333334, 0.96, 0.9666666666666666, 0.96, 0.9666666666666666, 0.9533333333333334, 0.9533333333333334, 0.9533333333333334]\n"
     ]
    }
   ],
   "source": [
    "# search for an optimal value of K for KNN\n",
    "\n",
    "# range of k we want to try\n",
    "k_range = range(1, 31)\n",
    "\n",
    "# empty list to store scores\n",
    "k_scores = []\n",
    "\n",
    "# 1. we will loop through reasonable values of k\n",
    "for k in k_range:\n",
    "    # 2. run KNeighborsClassifier with k neighbours\n",
    "    knn = KNeighborsClassifier(n_neighbors=k)\n",
    "    # 3. obtain cross_val_score for KNeighborsClassifier with k neighbours\n",
    "    ML_KNN_scores = cross_val_score(knn, X, y, cv=10, scoring='accuracy')\n",
    "    # 4. append mean of scores for k neighbors to k_scores list\n",
    "    k_scores.append(ML_KNN_scores.mean())\n",
    "\n",
    "\n",
    "print(k_scores)"
   ]
  },
  {
   "cell_type": "code",
   "execution_count": 8,
   "metadata": {
    "colab": {
     "base_uri": "https://localhost:8080/"
    },
    "id": "w7Fcyt6P0G5m",
    "outputId": "056fc9d8-4f79-46f8-fe4f-36ac8663029a"
   },
   "outputs": [
    {
     "name": "stdout",
     "output_type": "stream",
     "text": [
      "Length of list 30\n",
      "Max of list 0.9800000000000001\n"
     ]
    }
   ],
   "source": [
    "# in essence, this is basically running the k-fold cross-validation method 30 times \n",
    "# because we want to run through K values from 1 to 30\n",
    "# we should have 30 scores here\n",
    "print('Length of list', len(k_scores))\n",
    "print('Max of list', max(k_scores))"
   ]
  },
  {
   "cell_type": "code",
   "execution_count": 9,
   "metadata": {
    "colab": {
     "base_uri": "https://localhost:8080/",
     "height": 295
    },
    "id": "Ex514IKu0G5w",
    "outputId": "47acd7ce-5751-4da9-e3af-6be77c528366"
   },
   "outputs": [
    {
     "data": {
      "image/png": "[encoded data removed]",
      "text/plain": [
       "<Figure size 432x288 with 1 Axes>"
      ]
     },
     "metadata": {
      "needs_background": "light",
      "tags": []
     },
     "output_type": "display_data"
    }
   ],
   "source": [
    "# plot how accuracy changes as we vary k\n",
    "import matplotlib.pyplot as plt\n",
    "%matplotlib inline\n",
    "\n",
    "# plot the value of K for KNN (x-axis) versus the cross-validated accuracy (y-axis)\n",
    "plt.plot(k_range, k_scores)\n",
    "plt.title(\"Variations in accuracy vs. k values\")\n",
    "plt.xlabel('Value of K for KNN')\n",
    "plt.ylabel('Cross-validated accuracy');"
   ]
  },
  {
   "cell_type": "markdown",
   "metadata": {
    "id": "WH5N487j0G51"
   },
   "source": [
    "**`Observation and learnings`** :\n",
    "\n",
    "1. The maximum cv accuracy occurs from k=13 to k=20\n",
    "<br><br>\n",
    "2. The general shape of the curve is an upside down yield. This is quite typical when examining the model complexity and accuracy. This is an example of bias-variance trade off\n",
    "\n",
    "> **Low values of k (low bias, high variance)**<br>\n",
    "<font color=\"red\"> The 1-Nearest Neighbor classifier is the most complex nearest neighbor model\n",
    "It has the most jagged decision boundary, and is most likely to overfit </font>\n",
    "\n",
    "> **High values of k (high bias, low variance)**<br>\n",
    "<font color=\"red\"> underfit </font>\n",
    "\n",
    "> **Best value is the middle of k (most likely to generalize out-of-sample data)**<br>\n",
    "<font color=\"red\"> just right </font>\n",
    "\n",
    "> The best value of k<br>\n",
    "<font color=\"red\"> Higher values of k produce less complex model, So we will choose **20** as our best KNN model </font>"
   ]
  },
  {
   "cell_type": "markdown",
   "metadata": {
    "id": "thc4wxt20G56"
   },
   "source": [
    "**Can You solve this ?**\n",
    "\n",
    "> Find the better of 2 models :  KNN or logistic regression when used for classifying on the iris dataset.\n",
    "\n",
    "`Note` : This is the <u>third application</u> of CV"
   ]
  },
  {
   "cell_type": "code",
   "execution_count": 10,
   "metadata": {
    "colab": {
     "base_uri": "https://localhost:8080/"
    },
    "id": "Z8MYKa330G58",
    "outputId": "cddd0198-b139-40ed-cdaa-ada65304c781"
   },
   "outputs": [
    {
     "name": "stdout",
     "output_type": "stream",
     "text": [
      "0.9800000000000001\n"
     ]
    }
   ],
   "source": [
    "# Goal: Compare the best KNN model with logistic regression on the iris dataset\n",
    "\n",
    "# 10-fold cross-validation with the best KNN model\n",
    "knn = KNeighborsClassifier(n_neighbors=20)        ##  ML model 1\n",
    "\n",
    "# Instead of saving 10 scores in object named score and calculating mean\n",
    "# We're just calculating the mean directly on the results\n",
    "print(cross_val_score(knn, X, y, cv=10, scoring='accuracy').mean())"
   ]
  },
  {
   "cell_type": "code",
   "execution_count": 11,
   "metadata": {
    "colab": {
     "base_uri": "https://localhost:8080/"
    },
    "id": "-y1V4_RZ0G6A",
    "outputId": "4034225f-1b53-4746-b061-ecb1df6fb833"
   },
   "outputs": [
    {
     "name": "stdout",
     "output_type": "stream",
     "text": [
      "0.9733333333333334\n"
     ]
    }
   ],
   "source": [
    "# 10-fold cross-validation with logistic regression\n",
    "from sklearn.linear_model import LogisticRegression\n",
    "logreg = LogisticRegression()                     ##  ML model 2\n",
    "print(cross_val_score(logreg, X, y, cv=10, scoring='accuracy').mean())"
   ]
  },
  {
   "cell_type": "markdown",
   "metadata": {
    "id": "So4Tx--s0G6H"
   },
   "source": [
    "**We can conclude that KNN is likely a better choice than logistic regression**"
   ]
  },
  {
   "cell_type": "markdown",
   "metadata": {
    "id": "FBKfvUxQ0G6J"
   },
   "source": [
    "**Can You solve this ?**\n",
    "\n",
    "> Find the best features out of many fetures or simply said Applying CV for <u>feature selection</u>\n",
    "\n",
    "`Note` : This is the <u>fourth application</u> of CV"
   ]
  },
  {
   "cell_type": "code",
   "execution_count": 12,
   "metadata": {
    "colab": {
     "base_uri": "https://localhost:8080/"
    },
    "id": "4XMJUirW0G6M",
    "outputId": "905349ec-415b-49eb-d197-850d0eeb7473"
   },
   "outputs": [
    {
     "name": "stdout",
     "output_type": "stream",
     "text": [
      "      TV  radio  newspaper  sales\n",
      "1  230.1   37.8       69.2   22.1\n",
      "2   44.5   39.3       45.1   10.4\n",
      "3   17.2   45.9       69.3    9.3\n",
      "4  151.5   41.3       58.5   18.5\n",
      "5  180.8   10.8       58.4   12.9\n",
      "------------No. of rows & columns------------------\n",
      "(200, 4)\n"
     ]
    }
   ],
   "source": [
    "# Goal: Select whether the Newspaper feature should be included in the linear regression model \n",
    "# on the advertising dataset or Not ????\n",
    "\n",
    "import pandas as pd\n",
    "import numpy as np\n",
    "from sklearn.linear_model import LinearRegression\n",
    "\n",
    "# read in the advertising dataset\n",
    "data = pd.read_csv('https://raw.githubusercontent.com/ingledarshan/BK_Birla/main/Advertising.csv', index_col=0)\n",
    "# data source : https://www.kaggle.com/sazid28/advertising.csv\n",
    "\n",
    "print(data.head()) # its quite obvious that sales would be the target variable\n",
    "print(\"------------No. of rows & columns------------------\")\n",
    "print(data.shape)"
   ]
  },
  {
   "cell_type": "code",
   "execution_count": 13,
   "metadata": {
    "id": "Cn7tbAhV0G6T"
   },
   "outputs": [],
   "source": [
    "# create a Python list of three feature names\n",
    "feature_cols = ['TV', 'radio', 'newspaper']\n",
    "\n",
    "# use the list to select a subset of the DataFrame (X)\n",
    "X = data[feature_cols]\n",
    "\n",
    "# select the Sales column as the response (y)\n",
    "# since we're selecting only one column, we can select the attribute using .attribute\n",
    "y = data.sales"
   ]
  },
  {
   "cell_type": "code",
   "execution_count": 14,
   "metadata": {
    "colab": {
     "base_uri": "https://localhost:8080/"
    },
    "id": "OBeU7QTF0G6X",
    "outputId": "4a31d286-aeb4-4301-c9dc-bf05aa35f4bc"
   },
   "outputs": [
    {
     "name": "stdout",
     "output_type": "stream",
     "text": [
      "[-3.56038438 -3.29767522 -2.08943356 -2.82474283 -1.3027754  -1.74163618\n",
      " -8.17338214 -2.11409746 -3.04273109 -2.45281793]\n"
     ]
    }
   ],
   "source": [
    "# 10-fold cross-validation with all three features\n",
    "# instantiate model\n",
    "lm = LinearRegression()\n",
    "\n",
    "# store scores in scores object\n",
    "# we can't use accuracy as our evaluation metric since that's only relevant for classification problems\n",
    "# RMSE is not directly available so we will use MSE\n",
    "scores = cross_val_score(lm, X, y, cv=10, scoring='neg_mean_squared_error')\n",
    "print(scores)\n",
    "\n",
    "# Please Note choosing scoring='mean_squared_error' would give us a deprecation Warning. \n",
    "# Hence I have selected scoring='neg_mean_squared_error'. You can try by self also.   "
   ]
  },
  {
   "cell_type": "markdown",
   "metadata": {
    "id": "2ANg_WJ_0G6c"
   },
   "source": [
    "**MSE should be positive. But why is the MSE here negative?**\n",
    "\n",
    "> MSE is a <u>loss function</u>. It is something we want to <u>minimize</u>\n",
    "\n",
    "> A design decision was made so that the results are made negative. The best results would be the largest number (the least negative) so we can still maximize similar to classification accuracy\n",
    "\n",
    "> Classification Accuracy is a <u>reward function</u>. It is something we want to maximize"
   ]
  },
  {
   "cell_type": "code",
   "execution_count": 15,
   "metadata": {
    "colab": {
     "base_uri": "https://localhost:8080/"
    },
    "id": "4VhzmchT0G6e",
    "outputId": "e9fd99b2-4130-4308-ba74-2879d3ff2d30"
   },
   "outputs": [
    {
     "name": "stdout",
     "output_type": "stream",
     "text": [
      "[3.56038438 3.29767522 2.08943356 2.82474283 1.3027754  1.74163618\n",
      " 8.17338214 2.11409746 3.04273109 2.45281793]\n"
     ]
    }
   ],
   "source": [
    "# fix the sign of MSE scores\n",
    "mse_scores = -scores\n",
    "print(mse_scores)"
   ]
  },
  {
   "cell_type": "code",
   "execution_count": 16,
   "metadata": {
    "colab": {
     "base_uri": "https://localhost:8080/"
    },
    "id": "_eMvJVbW0G6i",
    "outputId": "e4923c8f-273c-4fa7-eb4f-44b12379dc5a"
   },
   "outputs": [
    {
     "name": "stdout",
     "output_type": "stream",
     "text": [
      "[1.88689808 1.81595022 1.44548731 1.68069713 1.14139187 1.31971064\n",
      " 2.85891276 1.45399362 1.7443426  1.56614748]\n"
     ]
    }
   ],
   "source": [
    "# convert from MSE to RMSE\n",
    "rmse_scores = np.sqrt(mse_scores)\n",
    "print(rmse_scores)"
   ]
  },
  {
   "cell_type": "code",
   "execution_count": 17,
   "metadata": {
    "colab": {
     "base_uri": "https://localhost:8080/"
    },
    "id": "VfIBVKy10G6u",
    "outputId": "da4f7252-6138-4a09-bbeb-42377ad3a864"
   },
   "outputs": [
    {
     "name": "stdout",
     "output_type": "stream",
     "text": [
      "1.6913531708051797\n"
     ]
    }
   ],
   "source": [
    "# calculate the average RMSE\n",
    "print(rmse_scores.mean())"
   ]
  },
  {
   "cell_type": "code",
   "execution_count": 18,
   "metadata": {
    "colab": {
     "base_uri": "https://localhost:8080/"
    },
    "id": "XQdl04sW0G6z",
    "outputId": "8f683ec5-0d52-4ea4-b3e6-bb4d318e96f3"
   },
   "outputs": [
    {
     "name": "stdout",
     "output_type": "stream",
     "text": [
      "1.6796748419090766\n"
     ]
    }
   ],
   "source": [
    "# 10-fold cross-validation with two features (excluding Newspaper)\n",
    "feature_cols = ['TV', 'radio']\n",
    "X = data[feature_cols]\n",
    "print(np.sqrt(-cross_val_score(lm, X, y, cv=10, scoring='neg_mean_squared_error')).mean())"
   ]
  },
  {
   "cell_type": "markdown",
   "metadata": {
    "id": "ifdyl2wV0G63"
   },
   "source": [
    "**Without Newspaper, Average RMSE = 1.68\n",
    "<br><br>\n",
    "`lower number than with model with Newspaper`**\n",
    "\n",
    "> RMSE is something we want to <u>minimize</u>. **So the model excluding Newspaper is a better model**."
   ]
  },
  {
   "cell_type": "markdown",
   "metadata": {
    "id": "fZDBcitO0G66"
   },
   "source": [
    "Resources\n",
    "--\n",
    "\n",
    "1. scikit-learn documentation: <a href=\"https://scikit-learn.org/stable/modules/cross_validation.html\">Cross-validation</a>, \n",
    "<a href=\"https://scikit-learn.org/stable/modules/model_evaluation.html\">Model evaluation</a>\n",
    "<br><br>\n",
    "2. scikit-learn issue on GitHub: <a href=\"https://github.com/scikit-learn/scikit-learn/issues/2439\">MSE is negative when returned by cross_val_score</a>\n",
    "<br><br> \n",
    "3. Scott Fortmann-Roe:  <a href=\"http://scott.fortmann-roe.com/docs/MeasuringError.html\">Accurately Measuring Model Prediction Error</a>\n",
    "<br><br> \n",
    "4. Machine Learning Mastery: <a href=\"https://machinelearningmastery.com/an-introduction-to-feature-selection/\">An Introduction to Feature Selection</a>\n",
    "<br><br> \n",
    "5. Harvard CS109: Cross-Validation: <a href=\" https://github.com/cs109/content/blob/master/lec_10_cross_val.ipynb\">The Right and Wrong Way</a>\n",
    "<br><br> \n",
    "6. Journal of Cheminformatics: <a href=\"https://jcheminf.biomedcentral.com/track/pdf/10.1186/1758-2946-6-10\">Cross-validation pitfalls when selecting and assessing regression and classification models</a>\n",
    "<br><br>\n",
    "7. www.kaggle.com for the datasets and many great notebooks\n",
    "<br><br>"
   ]
  },
  {
   "cell_type": "markdown",
   "metadata": {
    "id": "gTClOYGbhbU6"
   },
   "source": [
    "# Homework\n",
    "\n",
    ">Classification -> RandomForestClassifier\n",
    "\n",
    ">Regression -> AdaBoostRegressor\n",
    "\n",
    "https://scikit-learn.org/stable/modules/generated/sklearn.ensemble.AdaBoostRegressor.html"
   ]
  }
 ],
 "metadata": {
  "colab": {
   "collapsed_sections": [],
   "name": "2_Cross_Validation_What_When_and_How_to_implement_it_.ipynb",
   "provenance": []
  },
  "hide_input": false,
  "kernelspec": {
   "display_name": "Python 3",
   "language": "python",
   "name": "python3"
  },
  "language_info": {
   "codemirror_mode": {
    "name": "ipython",
    "version": 3
   },
   "file_extension": ".py",
   "mimetype": "text/x-python",
   "name": "python",
   "nbconvert_exporter": "python",
   "pygments_lexer": "ipython3",
   "version": "3.9.1"
  },
  "toc": {
   "base_numbering": 1,
   "nav_menu": {},
   "number_sections": true,
   "sideBar": true,
   "skip_h1_title": false,
   "title_cell": "Table of Contents",
   "title_sidebar": "Contents",
   "toc_cell": false,
   "toc_position": {},
   "toc_section_display": true,
   "toc_window_display": false
  }
 },
 "nbformat": 4,
 "nbformat_minor": 1
}
