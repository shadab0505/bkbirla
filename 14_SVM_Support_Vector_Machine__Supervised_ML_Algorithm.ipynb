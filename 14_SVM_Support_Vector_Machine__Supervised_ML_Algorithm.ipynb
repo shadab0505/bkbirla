{
  "nbformat": 4,
  "nbformat_minor": 0,
  "metadata": {
    "kernelspec": {
      "display_name": "Python 3",
      "language": "python",
      "name": "python3"
    },
    "language_info": {
      "codemirror_mode": {
        "name": "ipython",
        "version": 3
      },
      "file_extension": ".py",
      "mimetype": "text/x-python",
      "name": "python",
      "nbconvert_exporter": "python",
      "pygments_lexer": "ipython3",
      "version": "3.8.8"
    },
    "toc": {
      "base_numbering": 1,
      "nav_menu": {},
      "number_sections": true,
      "sideBar": true,
      "skip_h1_title": false,
      "title_cell": "Table of Contents",
      "title_sidebar": "Contents",
      "toc_cell": false,
      "toc_position": {},
      "toc_section_display": true,
      "toc_window_display": false
    },
    "colab": {
      "name": "14_SVM_Support_Vector_Machine__Supervised_ML_Algorithm.ipynb",
      "provenance": []
    }
  },
  "cells": [
    {
      "cell_type": "code",
      "metadata": {
        "colab": {
          "base_uri": "https://localhost:8080/"
        },
        "id": "wkvTseNUcRMk",
        "outputId": "668ffc40-7d4b-48d5-d6db-256d81d1c520"
      },
      "source": [
        "# Jovian Commit Essentials\n",
        "# Please retain and execute this cell without modifying the contents for `jovian.commit` to work\n",
        "!pip install jovian --upgrade -q\n",
        "import jovian\n",
        "jovian.set_project('14-svm-support-vector-machine-supervised-ml-algorithm-b9f2c')\n",
        "jovian.set_colab_id('1wopkz5iuN-_fHFpUV0HjeTgplSNFy5l0')"
      ],
      "execution_count": 1,
      "outputs": [
        {
          "output_type": "stream",
          "text": [
            "\u001b[?25l\r\u001b[K     |████▊                           | 10 kB 25.5 MB/s eta 0:00:01\r\u001b[K     |█████████▌                      | 20 kB 11.4 MB/s eta 0:00:01\r\u001b[K     |██████████████▎                 | 30 kB 7.0 MB/s eta 0:00:01\r\u001b[K     |███████████████████             | 40 kB 8.1 MB/s eta 0:00:01\r\u001b[K     |███████████████████████▉        | 51 kB 4.2 MB/s eta 0:00:01\r\u001b[K     |████████████████████████████▋   | 61 kB 4.4 MB/s eta 0:00:01\r\u001b[K     |████████████████████████████████| 68 kB 2.8 MB/s \n",
            "\u001b[?25h  Building wheel for uuid (setup.py) ... \u001b[?25l\u001b[?25hdone\n"
          ],
          "name": "stdout"
        }
      ]
    },
    {
      "cell_type": "markdown",
      "metadata": {
        "id": "bFE3HdHRcRMq"
      },
      "source": [
        "# SVM (Support Vector Machine) "
      ]
    },
    {
      "cell_type": "markdown",
      "metadata": {
        "id": "tbjV3_XJcRMv"
      },
      "source": [
        "# Introduction\n",
        "\n",
        "Suppose you are given plot of two label classes on graph as shown in image (A). Can you decide a separating line for the classes?"
      ]
    },
    {
      "cell_type": "markdown",
      "metadata": {
        "id": "oUJIv3XucRMw"
      },
      "source": [
        "![imageA_SVM_theory](imageA_SVM_theory.png 'imageA_SVM_theory')"
      ]
    },
    {
      "cell_type": "raw",
      "metadata": {
        "id": "0RC1dr7RcRMx"
      },
      "source": [
        "You might have come up with something similar to following image (image B). It fairly separates the two classes. Any point that is left of line falls into black circle class and on right falls into blue square class. Separation of classes. That’s what SVM does. It finds out a line/ hyper-plane (in multidimensional space that separate outs classes)."
      ]
    },
    {
      "cell_type": "markdown",
      "metadata": {
        "id": "6Ghux2ercRMy"
      },
      "source": [
        "![ImageB_SVM_theory](ImageB_SVM_theory.png 'ImageB_SVM_theory')"
      ]
    },
    {
      "cell_type": "raw",
      "metadata": {
        "id": "wd5nhJ3pcRMy"
      },
      "source": [
        "Making it a Bit complex…\n",
        "-------------------------\n",
        "So far so good. Now consider what if we had data as shown in image below? Clearly, there is no line that can separate the two classes in this x-y plane. So what do we do? We apply transformation and add one more dimension as we call it z-axis. Lets assume value of points on z plane, w = x² + y². In this case we can manipulate it as distance of point from z-origin. \n",
        "\n",
        "Now if we plot in z-axis, a clear separation is visible \n",
        "and a line can be drawn ."
      ]
    },
    {
      "cell_type": "markdown",
      "metadata": {
        "id": "oFdXsVTEcRM0"
      },
      "source": [
        "![ImageC_SVM_theory](ImageC_SVM_theory.png 'ImageC_SVM_theory')"
      ]
    },
    {
      "cell_type": "markdown",
      "metadata": {
        "id": "5EnUSM_ncRM1"
      },
      "source": [
        "When we transform back this line to original plane, it maps to circular boundary as shown in image E. These transformations are called kernels.\n",
        "\n",
        "![imageE_SVM_theory](imageE_SVM_theory.png 'imageE_SVM_theory')"
      ]
    },
    {
      "cell_type": "markdown",
      "metadata": {
        "id": "sUFG_knWcRM2"
      },
      "source": [
        "Making it a little more complex…\n",
        "-----------------------------------------------\n",
        "\n",
        "What if data plot overlaps? \n",
        "Or, \n",
        "what in case some of the black points are inside the blue ones? \n",
        "Which line among 1 or 2 ? should we draw ?\n",
        "\n",
        "![ImageE_1_2_SVM_theory](ImageE_1_2_SVM_theory.png 'ImageE_1_2_SVM_theory')"
      ]
    },
    {
      "cell_type": "markdown",
      "metadata": {
        "id": "9m9xrKE3cRM3"
      },
      "source": [
        "This is called regularization parameter. \n",
        "\n",
        "* In next section, we define two terms regularization parameter and gamma. \n",
        "\n",
        "** These are tuning parameters in SVM classifier. Varying those we can achive considerable non linear classification line with more accuracy in reasonable amount of time."
      ]
    },
    {
      "cell_type": "markdown",
      "metadata": {
        "id": "RQ62_KkfcRM4"
      },
      "source": [
        "Tuning parameters: Regularization, Gamma and Margin.\n",
        "--------------------------------------------------------------------------------\n",
        "\n",
        "Regularization :\n",
        "---------------------\n",
        "The Regularization parameter (often termed as C parameter in python’s sklearn library) tells the SVM optimization how much you want to avoid misclassifying each training example.\n",
        "\n",
        "For large values of C(right diagram), the optimization will choose a smaller-margin hyperplane if that hyperplane does a better job of getting all the training points classified correctly. Conversely, a very small value of C(left diagram) will cause the optimizer to look for a larger-margin separating hyperplane, even if that hyperplane misclassifies more points.\n",
        "\n",
        "The images below are example of two different regularization parameter. \n",
        "**Left one has some misclassification due to lower regularization value. \n",
        "**Higher value leads to results like right one.\n",
        "\n",
        "GOOGLE SAYS \"LIFE AND HAPPINESS\" IS THE MOST CRITICAL DATA. IF ANY THING OTHER THAN THAT COMES, WE CAN GO FOR LEFT DIAGRAM, ELSE WE SHOULD CUMPOLSORILY GO FOR RIGHT DIAGRAM\n",
        "\n",
        "![regularization_example_svm_theory](regularization_example_svm_theory.png 'regularization_example_svm_theory')"
      ]
    },
    {
      "cell_type": "markdown",
      "metadata": {
        "id": "w3jCk5mlcRM6"
      },
      "source": [
        "Gamma\n",
        "-----------\n",
        "The gamma parameter defines how far the influence of a single training example reaches, with low values meaning ‘far’ and high values meaning ‘close’. In other words, with low gamma, points far away from plausible seperation line are considered in calculation for the seperation line. Where as high gamma means the points close to plausible line are considered in calculation.\n",
        "\n",
        "IF YOU HAVE TOO MUCH CONCENTRATION IN THE DATA, YOU USE HIGH GAMMA. EG: AVG MARKS OF 100 ARE MORE SATURATED IN REGION 50-75.\n",
        "\n",
        "IF YOU HAVE WELL DISTRIBUTED DATA(GAUSSIAN DISTRIBUTION), YOU USE LOW GAMMA. EG: AVG MARKS OF 100 ARE WELL DISTRIBUTED FROM 0 TO 100\n",
        "\n",
        "\n",
        "![gamma_svm_theory](gamma_svm_theory.png 'gamma_svm_theory')"
      ]
    },
    {
      "cell_type": "markdown",
      "metadata": {
        "id": "G2pTcO_qcRM7"
      },
      "source": [
        "Margin\n",
        "----------\n",
        "\n",
        "A margin is a separation of line to the closest class points.\n",
        "\n",
        "A good margin is one where this separation is larger for both the classes. Images below gives to visual example of good and bad margin. A good margin allows the points to be in their respective classes without crossing to other class.\n",
        "\n",
        "INCASE OF BAD MARGIN, THE POINT WHICH IS VERY CLOSE TO THE MARGIN WILL GET UP MISCLASSIFIED WHEN THE NEW DATA COMES IN.\n",
        "\n",
        "![margin_svm_theory](margin_svm_theory.png 'margin_svm_theory')"
      ]
    },
    {
      "cell_type": "markdown",
      "metadata": {
        "id": "PuSJRNUYcRM-"
      },
      "source": [
        "# Coding Examples"
      ]
    },
    {
      "cell_type": "code",
      "metadata": {
        "colab": {
          "base_uri": "https://localhost:8080/"
        },
        "id": "hWjSjDU6cRM_",
        "outputId": "5945f03c-6fc5-4be2-8524-f384b4ebc009"
      },
      "source": [
        "# doing the minimum necessary imports\n",
        "# more modules would be imported as and when needed\n",
        "\n",
        "import pandas as pd  \n",
        "import numpy as np  \n",
        "import matplotlib.pyplot as plt  \n",
        "%matplotlib inline\n",
        "\n",
        "# reading data from CSV file. \n",
        "# reading bank currency note data into pandas dataframe.\n",
        "bankdata = pd.read_csv(\"https://raw.githubusercontent.com/ingledarshan/BK_Birla/main/bill_authentication.csv\")  \n",
        "\n",
        "# Exploratory Data Analysis\n",
        "print(bankdata.shape)  \n",
        "print(\"------------\")\n",
        "print(bankdata.head()) \n",
        "#0=Fake Note, 1=Genuine Note"
      ],
      "execution_count": 2,
      "outputs": [
        {
          "output_type": "stream",
          "text": [
            "(1372, 5)\n",
            "------------\n",
            "   Variance  Skewness  Curtosis  Entropy  Class\n",
            "0   3.62160    8.6661   -2.8073 -0.44699      0\n",
            "1   4.54590    8.1674   -2.4586 -1.46210      0\n",
            "2   3.86600   -2.6383    1.9242  0.10645      0\n",
            "3   3.45660    9.5228   -4.0112 -3.59440      0\n",
            "4   0.32924   -4.4552    4.5718 -0.98880      0\n"
          ],
          "name": "stdout"
        }
      ]
    },
    {
      "cell_type": "code",
      "metadata": {
        "scrolled": true,
        "colab": {
          "base_uri": "https://localhost:8080/"
        },
        "id": "Vmw_Se31cRNF",
        "outputId": "53b2f25c-b02f-4299-93a0-08073c8e3a27"
      },
      "source": [
        "bankdata.Class.value_counts()"
      ],
      "execution_count": 3,
      "outputs": [
        {
          "output_type": "execute_result",
          "data": {
            "text/plain": [
              "0    762\n",
              "1    610\n",
              "Name: Class, dtype: int64"
            ]
          },
          "metadata": {
            "tags": []
          },
          "execution_count": 3
        }
      ]
    },
    {
      "cell_type": "code",
      "metadata": {
        "colab": {
          "base_uri": "https://localhost:8080/",
          "height": 297
        },
        "id": "8Eywh37bcRNG",
        "outputId": "e9de2a21-ea08-4961-fcf4-97aa196f73bf"
      },
      "source": [
        "bankdata.describe()"
      ],
      "execution_count": 4,
      "outputs": [
        {
          "output_type": "execute_result",
          "data": {
            "text/html": [
              "<div>\n",
              "<style scoped>\n",
              "    .dataframe tbody tr th:only-of-type {\n",
              "        vertical-align: middle;\n",
              "    }\n",
              "\n",
              "    .dataframe tbody tr th {\n",
              "        vertical-align: top;\n",
              "    }\n",
              "\n",
              "    .dataframe thead th {\n",
              "        text-align: right;\n",
              "    }\n",
              "</style>\n",
              "<table border=\"1\" class=\"dataframe\">\n",
              "  <thead>\n",
              "    <tr style=\"text-align: right;\">\n",
              "      <th></th>\n",
              "      <th>Variance</th>\n",
              "      <th>Skewness</th>\n",
              "      <th>Curtosis</th>\n",
              "      <th>Entropy</th>\n",
              "      <th>Class</th>\n",
              "    </tr>\n",
              "  </thead>\n",
              "  <tbody>\n",
              "    <tr>\n",
              "      <th>count</th>\n",
              "      <td>1372.000000</td>\n",
              "      <td>1372.000000</td>\n",
              "      <td>1372.000000</td>\n",
              "      <td>1372.000000</td>\n",
              "      <td>1372.000000</td>\n",
              "    </tr>\n",
              "    <tr>\n",
              "      <th>mean</th>\n",
              "      <td>0.433735</td>\n",
              "      <td>1.922353</td>\n",
              "      <td>1.397627</td>\n",
              "      <td>-1.191657</td>\n",
              "      <td>0.444606</td>\n",
              "    </tr>\n",
              "    <tr>\n",
              "      <th>std</th>\n",
              "      <td>2.842763</td>\n",
              "      <td>5.869047</td>\n",
              "      <td>4.310030</td>\n",
              "      <td>2.101013</td>\n",
              "      <td>0.497103</td>\n",
              "    </tr>\n",
              "    <tr>\n",
              "      <th>min</th>\n",
              "      <td>-7.042100</td>\n",
              "      <td>-13.773100</td>\n",
              "      <td>-5.286100</td>\n",
              "      <td>-8.548200</td>\n",
              "      <td>0.000000</td>\n",
              "    </tr>\n",
              "    <tr>\n",
              "      <th>25%</th>\n",
              "      <td>-1.773000</td>\n",
              "      <td>-1.708200</td>\n",
              "      <td>-1.574975</td>\n",
              "      <td>-2.413450</td>\n",
              "      <td>0.000000</td>\n",
              "    </tr>\n",
              "    <tr>\n",
              "      <th>50%</th>\n",
              "      <td>0.496180</td>\n",
              "      <td>2.319650</td>\n",
              "      <td>0.616630</td>\n",
              "      <td>-0.586650</td>\n",
              "      <td>0.000000</td>\n",
              "    </tr>\n",
              "    <tr>\n",
              "      <th>75%</th>\n",
              "      <td>2.821475</td>\n",
              "      <td>6.814625</td>\n",
              "      <td>3.179250</td>\n",
              "      <td>0.394810</td>\n",
              "      <td>1.000000</td>\n",
              "    </tr>\n",
              "    <tr>\n",
              "      <th>max</th>\n",
              "      <td>6.824800</td>\n",
              "      <td>12.951600</td>\n",
              "      <td>17.927400</td>\n",
              "      <td>2.449500</td>\n",
              "      <td>1.000000</td>\n",
              "    </tr>\n",
              "  </tbody>\n",
              "</table>\n",
              "</div>"
            ],
            "text/plain": [
              "          Variance     Skewness     Curtosis      Entropy        Class\n",
              "count  1372.000000  1372.000000  1372.000000  1372.000000  1372.000000\n",
              "mean      0.433735     1.922353     1.397627    -1.191657     0.444606\n",
              "std       2.842763     5.869047     4.310030     2.101013     0.497103\n",
              "min      -7.042100   -13.773100    -5.286100    -8.548200     0.000000\n",
              "25%      -1.773000    -1.708200    -1.574975    -2.413450     0.000000\n",
              "50%       0.496180     2.319650     0.616630    -0.586650     0.000000\n",
              "75%       2.821475     6.814625     3.179250     0.394810     1.000000\n",
              "max       6.824800    12.951600    17.927400     2.449500     1.000000"
            ]
          },
          "metadata": {
            "tags": []
          },
          "execution_count": 4
        }
      ]
    },
    {
      "cell_type": "code",
      "metadata": {
        "colab": {
          "base_uri": "https://localhost:8080/"
        },
        "id": "6KoCM_CMcRNH",
        "outputId": "d4c2b432-976b-40cd-efa9-7feceb35c790"
      },
      "source": [
        "# Data Preprocessing\n",
        "# Data preprocessing involves \n",
        "# (1) Dividing the data into attributes and labels and \n",
        "# (2) dividing the data into training and testing sets.\n",
        "\n",
        "# To divide the data into attributes and labels, do :\n",
        "X = bankdata.drop('Class', axis=1)  \n",
        "y = bankdata['Class']  \n",
        "\n",
        "# the final preprocessing step is to divide data into training and test sets\n",
        "from sklearn.model_selection import train_test_split  \n",
        "X_train, X_test, y_train, y_test = train_test_split(X, y, test_size = 0.20)\n",
        "\n",
        "# Training the Algorithm. Here we would use simple SVM , i.e linear SVM\n",
        "from sklearn.svm import SVC\n",
        "\n",
        "# classifying linear data\n",
        "svclassifier = SVC(kernel= 'linear') # classify linear data\n",
        "# svclassifier = SVC() #bydefault, its rbf\n",
        "# kernel can take many values like\n",
        "# Gaussian, polynomial, sigmoid, or computable kernel\n",
        "\n",
        "# fit the model over data\n",
        "svclassifier.fit(X_train,y_train)\n",
        "\n",
        "# Making Predictions\n",
        "y_pred = svclassifier.predict(X_test)\n",
        "\n",
        "# Evaluating the Algorithm\n",
        "from sklearn.metrics import classification_report, confusion_matrix\n",
        "print(confusion_matrix(y_test,y_pred))\n",
        "print(classification_report(y_test,y_pred))"
      ],
      "execution_count": 5,
      "outputs": [
        {
          "output_type": "stream",
          "text": [
            "[[145   2]\n",
            " [  0 128]]\n",
            "              precision    recall  f1-score   support\n",
            "\n",
            "           0       1.00      0.99      0.99       147\n",
            "           1       0.98      1.00      0.99       128\n",
            "\n",
            "    accuracy                           0.99       275\n",
            "   macro avg       0.99      0.99      0.99       275\n",
            "weighted avg       0.99      0.99      0.99       275\n",
            "\n"
          ],
          "name": "stdout"
        }
      ]
    },
    {
      "cell_type": "markdown",
      "metadata": {
        "id": "NQLY0XOvcRNI"
      },
      "source": [
        "Note : to understand Precision, recall, f1-score, support; see this post\n",
        "https://towardsdatascience.com/accuracy-precision-recall-or-f1-331fb37c5cb9\n",
        "\n",
        "For example : In the above o/p -> (refer confusion matrix)\n",
        "166/167 bank entries were correctly predicted false.\n",
        "also, 108/108 bank entries were correctly predicted true.\n",
        "\n",
        "The total no. of observations are also indicated as support. \n",
        "see support values -> for 0(i.e false) it is 167 and for 1(i.e true) it is 108 \n",
        "\n",
        "further, Precision talks about how precise/accurate your model is ?\n",
        "Precision tells us, out of those predicted positive, how many of them are actually positive. Our SVM model's precision is 1.00 i.e 100% in predicting the actual Negatives and 99% in predicting the actual positives. "
      ]
    },
    {
      "cell_type": "markdown",
      "metadata": {
        "id": "CRgEBGfIcRNJ"
      },
      "source": [
        " # Applying SVM over non-linear data\n",
        " \n",
        "In case of non-linearly separable data, the simple SVM algorithm cannot be used. Rather, a modified version of SVM, called Kernel SVM, is used.\n",
        "\n",
        "Basically, the kernel SVM projects the non-linearly separable data in lower dimensions to linearly separable data in higher dimensions in such a way that data points belonging to different classes are allocated to different dimensions. Again, there is complex mathematics involved in this, but you do not have to worry about it in order to use SVM. Rather we can simply use Python's Scikit-Learn library to implement and use the kernel SVM.\n",
        "\n",
        "Implementing Kernel SVM with Scikit-Learn is similar to the simple SVM. In this section, we will use the famous iris dataset to predict the category to which a plant belongs based on four attributes: sepal-width, sepal-length, petal-width and petal-length.\n",
        "\n",
        "We will try all three possible kernels; namely polynomial, Gaussian, and sigmoid kernels. "
      ]
    },
    {
      "cell_type": "code",
      "metadata": {
        "scrolled": true,
        "colab": {
          "base_uri": "https://localhost:8080/",
          "height": 204
        },
        "id": "5DiIHV44cRNK",
        "outputId": "d9d37913-8d1b-4796-f372-ed44cc8d86bb"
      },
      "source": [
        "import seaborn as sns\n",
        "import numpy as np\n",
        "import pandas as pd  \n",
        "import matplotlib.pyplot as plt\n",
        "from sklearn import svm, datasets\n",
        "\n",
        "# import some data to play with\n",
        "irisdata = sns.load_dataset('iris')\n",
        "irisdata.head()  # have a look at the attributres(=> X) and Labels(=> y)"
      ],
      "execution_count": 6,
      "outputs": [
        {
          "output_type": "execute_result",
          "data": {
            "text/html": [
              "<div>\n",
              "<style scoped>\n",
              "    .dataframe tbody tr th:only-of-type {\n",
              "        vertical-align: middle;\n",
              "    }\n",
              "\n",
              "    .dataframe tbody tr th {\n",
              "        vertical-align: top;\n",
              "    }\n",
              "\n",
              "    .dataframe thead th {\n",
              "        text-align: right;\n",
              "    }\n",
              "</style>\n",
              "<table border=\"1\" class=\"dataframe\">\n",
              "  <thead>\n",
              "    <tr style=\"text-align: right;\">\n",
              "      <th></th>\n",
              "      <th>sepal_length</th>\n",
              "      <th>sepal_width</th>\n",
              "      <th>petal_length</th>\n",
              "      <th>petal_width</th>\n",
              "      <th>species</th>\n",
              "    </tr>\n",
              "  </thead>\n",
              "  <tbody>\n",
              "    <tr>\n",
              "      <th>0</th>\n",
              "      <td>5.1</td>\n",
              "      <td>3.5</td>\n",
              "      <td>1.4</td>\n",
              "      <td>0.2</td>\n",
              "      <td>setosa</td>\n",
              "    </tr>\n",
              "    <tr>\n",
              "      <th>1</th>\n",
              "      <td>4.9</td>\n",
              "      <td>3.0</td>\n",
              "      <td>1.4</td>\n",
              "      <td>0.2</td>\n",
              "      <td>setosa</td>\n",
              "    </tr>\n",
              "    <tr>\n",
              "      <th>2</th>\n",
              "      <td>4.7</td>\n",
              "      <td>3.2</td>\n",
              "      <td>1.3</td>\n",
              "      <td>0.2</td>\n",
              "      <td>setosa</td>\n",
              "    </tr>\n",
              "    <tr>\n",
              "      <th>3</th>\n",
              "      <td>4.6</td>\n",
              "      <td>3.1</td>\n",
              "      <td>1.5</td>\n",
              "      <td>0.2</td>\n",
              "      <td>setosa</td>\n",
              "    </tr>\n",
              "    <tr>\n",
              "      <th>4</th>\n",
              "      <td>5.0</td>\n",
              "      <td>3.6</td>\n",
              "      <td>1.4</td>\n",
              "      <td>0.2</td>\n",
              "      <td>setosa</td>\n",
              "    </tr>\n",
              "  </tbody>\n",
              "</table>\n",
              "</div>"
            ],
            "text/plain": [
              "   sepal_length  sepal_width  petal_length  petal_width species\n",
              "0           5.1          3.5           1.4          0.2  setosa\n",
              "1           4.9          3.0           1.4          0.2  setosa\n",
              "2           4.7          3.2           1.3          0.2  setosa\n",
              "3           4.6          3.1           1.5          0.2  setosa\n",
              "4           5.0          3.6           1.4          0.2  setosa"
            ]
          },
          "metadata": {
            "tags": []
          },
          "execution_count": 6
        }
      ]
    },
    {
      "cell_type": "code",
      "metadata": {
        "id": "UM9-j0KZcRNK"
      },
      "source": [
        "# Preprocessing data\n",
        "X = irisdata.drop('species', axis=1)  \n",
        "y = irisdata['species']\n",
        "\n",
        "# Train Test Split\n",
        "from sklearn.model_selection import train_test_split  \n",
        "X_train, X_test, y_train, y_test = train_test_split(X, y, test_size = 0.20)  "
      ],
      "execution_count": 7,
      "outputs": []
    },
    {
      "cell_type": "markdown",
      "metadata": {
        "id": "CgxAiWEDcRNL"
      },
      "source": [
        "# Training the Algorithm\n",
        "To train the kernel SVM, we use the same SVC class of the Scikit-Learn's svm library.\n",
        "\n",
        "We will implement polynomial, Gaussian, and sigmoid kernels to see which one works better for our problem."
      ]
    },
    {
      "cell_type": "markdown",
      "metadata": {
        "id": "zzOv8301cRNM"
      },
      "source": [
        "# 1. Polynomial Kernel\n",
        "In the case of polynomial kernel, you also have to pass a value for the degree parameter of the SVC class. This basically is the degree of the polynomial. Take a look at how we can use a polynomial kernel to implement kernel SVM:"
      ]
    },
    {
      "cell_type": "code",
      "metadata": {
        "colab": {
          "base_uri": "https://localhost:8080/"
        },
        "id": "6HbgPkMtcRNO",
        "outputId": "bf4ba991-f7ca-4f2d-bddf-0fde9ab29228"
      },
      "source": [
        "from sklearn.svm import SVC  \n",
        "svclassifier = SVC(kernel='poly', degree=8, gamma='auto')  # more higher degree, \n",
        "# more time the system will take. u cn choose any no as degree\n",
        "# gamma is optional. But it gives a FutureWarning. To avoid it , specify\n",
        "# gamma as 'auto' or 'scale'\n",
        "\n",
        "svclassifier.fit(X_train, y_train)\n",
        "\n",
        "# Making Predictions\n",
        "y_pred = svclassifier.predict(X_test)  \n",
        "\n",
        "\n",
        "# Evaluating the Algorithm\n",
        "from sklearn.metrics import classification_report, confusion_matrix  \n",
        "print(confusion_matrix(y_test, y_pred))  \n",
        "print(classification_report(y_test, y_pred))\n",
        "\n",
        "# Note : Note the misclassification in 'virginica' species"
      ],
      "execution_count": 8,
      "outputs": [
        {
          "output_type": "stream",
          "text": [
            "[[10  0  0]\n",
            " [ 0  8  1]\n",
            " [ 0  1 10]]\n",
            "              precision    recall  f1-score   support\n",
            "\n",
            "      setosa       1.00      1.00      1.00        10\n",
            "  versicolor       0.89      0.89      0.89         9\n",
            "   virginica       0.91      0.91      0.91        11\n",
            "\n",
            "    accuracy                           0.93        30\n",
            "   macro avg       0.93      0.93      0.93        30\n",
            "weighted avg       0.93      0.93      0.93        30\n",
            "\n"
          ],
          "name": "stdout"
        }
      ]
    },
    {
      "cell_type": "markdown",
      "metadata": {
        "id": "p7LUkECxcRNR"
      },
      "source": [
        "# 2. Gaussian Kernel\n",
        "\n",
        "To use Gaussian kernel, you have to specify 'rbf' as value for the Kernel parameter of the SVC class."
      ]
    },
    {
      "cell_type": "code",
      "metadata": {
        "colab": {
          "base_uri": "https://localhost:8080/"
        },
        "id": "sc0JnmpWcRNR",
        "outputId": "3ac8782d-8b52-450d-cdfe-9109920b7479"
      },
      "source": [
        "from sklearn.svm import SVC  \n",
        "svclassifier = SVC(kernel='rbf', gamma='auto')  \n",
        "svclassifier.fit(X_train, y_train) \n",
        "\n",
        "# Prediction and Evaluation\n",
        "y_pred = svclassifier.predict(X_test)  \n",
        "\n",
        "from sklearn.metrics import classification_report, confusion_matrix  \n",
        "print(confusion_matrix(y_test, y_pred))  \n",
        "print(classification_report(y_test, y_pred))  \n",
        "\n",
        "# Note : Note the best performance thats 100% precise"
      ],
      "execution_count": 9,
      "outputs": [
        {
          "output_type": "stream",
          "text": [
            "[[10  0  0]\n",
            " [ 0  8  1]\n",
            " [ 0  1 10]]\n",
            "              precision    recall  f1-score   support\n",
            "\n",
            "      setosa       1.00      1.00      1.00        10\n",
            "  versicolor       0.89      0.89      0.89         9\n",
            "   virginica       0.91      0.91      0.91        11\n",
            "\n",
            "    accuracy                           0.93        30\n",
            "   macro avg       0.93      0.93      0.93        30\n",
            "weighted avg       0.93      0.93      0.93        30\n",
            "\n"
          ],
          "name": "stdout"
        }
      ]
    },
    {
      "cell_type": "markdown",
      "metadata": {
        "id": "w4OqhRxLcRNS"
      },
      "source": [
        "# 3. Sigmoid Kernel\n",
        "Finally, let's use a sigmoid kernel for implementing Kernel SVM. \n",
        "To use the sigmoid kernel, you have to specify 'sigmoid' as value for the kernel parameter of the SVC class.Take a look at the following script:  "
      ]
    },
    {
      "cell_type": "code",
      "metadata": {
        "colab": {
          "base_uri": "https://localhost:8080/"
        },
        "id": "b84Pk7rZcRNT",
        "outputId": "478473a9-d246-42a9-d3bf-a1843ea6703b"
      },
      "source": [
        "from sklearn.svm import SVC  \n",
        "svclassifier = SVC(kernel='sigmoid', gamma='auto')  \n",
        "svclassifier.fit(X_train, y_train)\n",
        "\n",
        "# Prediction and Evaluation\n",
        "y_pred = svclassifier.predict(X_test)  \n",
        "\n",
        "from sklearn.metrics import classification_report, confusion_matrix  \n",
        "print(confusion_matrix(y_test, y_pred))  \n",
        "print(classification_report(y_test, y_pred))\n",
        "\n",
        "# Note : Note the very poor perfomance from Sigmoid kernel"
      ],
      "execution_count": 10,
      "outputs": [
        {
          "output_type": "stream",
          "text": [
            "[[ 0 10  0]\n",
            " [ 0  9  0]\n",
            " [ 0 11  0]]\n",
            "              precision    recall  f1-score   support\n",
            "\n",
            "      setosa       0.00      0.00      0.00        10\n",
            "  versicolor       0.30      1.00      0.46         9\n",
            "   virginica       0.00      0.00      0.00        11\n",
            "\n",
            "    accuracy                           0.30        30\n",
            "   macro avg       0.10      0.33      0.15        30\n",
            "weighted avg       0.09      0.30      0.14        30\n",
            "\n"
          ],
          "name": "stdout"
        },
        {
          "output_type": "stream",
          "text": [
            "/usr/local/lib/python3.7/dist-packages/sklearn/metrics/_classification.py:1272: UndefinedMetricWarning: Precision and F-score are ill-defined and being set to 0.0 in labels with no predicted samples. Use `zero_division` parameter to control this behavior.\n",
            "  _warn_prf(average, modifier, msg_start, len(result))\n"
          ],
          "name": "stderr"
        }
      ]
    },
    {
      "cell_type": "markdown",
      "metadata": {
        "id": "R-QlbpKecRNW"
      },
      "source": [
        "# Comparison of Kernel Performance\n",
        "\n",
        "If we compare the performance of the different types of kernels we can clearly see that the sigmoid kernel performs the worst. This is due to the reason that sigmoid function returns two values, 0 and 1, therefore it is more suitable for binary classification problems. However, in our case we had three output classes.\n",
        "\n",
        "Amongst the Gaussian kernel and polynomial kernel, we can see that Gaussian kernel achieved a perfect 100% prediction rate while polynomial kernel misclassified three instances. Therefore the Gaussian kernel performed slightly better. However, there is no hard and fast rule as to which kernel performs best in every scenario. It is all about testing all the kernels and selecting the one with the best results on your test dataset."
      ]
    }
  ]
}